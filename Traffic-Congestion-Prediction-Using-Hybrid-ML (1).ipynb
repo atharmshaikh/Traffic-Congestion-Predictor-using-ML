{
 "cells": [
  {
   "cell_type": "code",
   "execution_count": null,
   "id": "8fcd6fab",
   "metadata": {},
   "outputs": [],
   "source": [
    "# Traffic Congestion Predictor\n",
    "\n",
    "#  Import all required libraries\n",
    "import pandas as pd\n",
    "import numpy as np\n",
    "import matplotlib.pyplot as plt\n",
    "import seaborn as sns\n",
    "\n",
    "from sklearn.model_selection import train_test_split\n",
    "from sklearn.preprocessing import StandardScaler\n",
    "from sklearn.ensemble import RandomForestClassifier\n",
    "from sklearn.metrics import classification_report, accuracy_score, confusion_matrix\n",
    "from sklearn.model_selection import GridSearchCV\n",
    "\n"
   ]
  },
  {
   "cell_type": "code",
   "execution_count": null,
   "id": "390acb77",
   "metadata": {},
   "outputs": [],
   "source": [
    "#  Load the dataset\n",
    "df = pd.read_csv(\"dataset.csv\")\n",
    "df.columns = df.columns.str.strip()  # Clean any accidental whitespaces\n",
    "\n",
    "print(\"Dataset Loaded Successfully\")\n",
    "df.head()\n"
   ]
  },
  {
   "cell_type": "code",
   "execution_count": null,
   "id": "a83dbd96",
   "metadata": {},
   "outputs": [],
   "source": [
    "#  Drop non-informative columns\n",
    "df.drop(columns=['Day', 'Date'], inplace=True)\n",
    "\n",
    "# Convert 'Weather' to string for encoding\n",
    "df['Weather'] = df['Weather'].astype(str)\n",
    "\n",
    "#  One-hot encode categorical feature 'Weather'\n",
    "df = pd.get_dummies(df, columns=['Weather'], drop_first=True)\n",
    "\n",
    "# Convert boolean columns (from get_dummies) to int\n",
    "df = df.astype({col: int for col in df.columns if df[col].dtype == bool})\n",
    "\n",
    "#   Create synthetic 'Hour' feature from Zone\n",
    "df['Hour'] = df['Zone'] % 24\n",
    "\n",
    "\n",
    "#  Convert 5 traffic levels into 3 broader classes\n",
    "# 1–2 = Low, 3 = Medium, 4–5 =High\n",
    "def bin_traffic(x):\n",
    "    if x <= 2:\n",
    "        return 1  # Low\n",
    "    elif x == 3:\n",
    "        return 2  # Medium\n",
    "    else:\n",
    "        return 3  # High\n",
    "\n",
    "df['Traffic_Level'] = df['Traffic'].apply(bin_traffic)\n",
    "df.head()\n"
   ]
  },
  {
   "cell_type": "code",
   "execution_count": null,
   "id": "2719b27e",
   "metadata": {},
   "outputs": [],
   "source": [
    "#  Separate features and target\n",
    "X = df.drop('Traffic', axis=1)\n",
    "y = df['Traffic_Level']\n",
    "\n"
   ]
  },
  {
   "cell_type": "code",
   "execution_count": null,
   "id": "5c8703b2",
   "metadata": {},
   "outputs": [],
   "source": [
    "#  Stratified split to preserve class distribution\n",
    "X_train, X_test, y_train, y_test = train_test_split(\n",
    "    X, y, test_size=0.2, stratify=y, random_state=42\n",
    ")\n",
    "\n",
    "#  Standardize features\n",
    "scaler = StandardScaler()\n",
    "X_train_scaled = scaler.fit_transform(X_train)\n",
    "X_test_scaled = scaler.transform(X_test)\n"
   ]
  },
  {
   "cell_type": "code",
   "execution_count": null,
   "id": "7f861ed6",
   "metadata": {},
   "outputs": [],
   "source": [
    "#  Train a Random Forest Classifier with basic tuning\n",
    "clf = RandomForestClassifier(\n",
    "    n_estimators=200,\n",
    "    max_depth=10,\n",
    "    random_state=42,\n",
    "    class_weight='balanced'\n",
    ")\n",
    "clf.fit(X_train_scaled, y_train)\n",
    "\n",
    "#  Predict\n",
    "y_pred = clf.predict(X_test_scaled)\n"
   ]
  },
  {
   "cell_type": "code",
   "execution_count": null,
   "id": "9bb54791",
   "metadata": {},
   "outputs": [],
   "source": [
    "#  Accuracy & Classification Report\n",
    "print(f\" Accuracy: {accuracy_score(y_test, y_pred):.2f}\")\n",
    "print(\"\\n Classification Report:\")\n",
    "print(classification_report(y_test, y_pred))\n"
   ]
  },
  {
   "cell_type": "code",
   "execution_count": null,
   "id": "8350b43f",
   "metadata": {},
   "outputs": [],
   "source": [
    "#  Confusion Matrix Heatmap\n",
    "cm = confusion_matrix(y_test, y_pred)\n",
    "\n",
    "plt.figure(figsize=(6, 5))\n",
    "sns.heatmap(cm, annot=True, fmt=\"d\", cmap=\"YlGnBu\", linewidths=1, linecolor='gray')\n",
    "plt.title(\" Confusion Matrix\")\n",
    "plt.xlabel(\"Predicted\")\n",
    "plt.ylabel(\"Actual\")\n",
    "plt.show()\n"
   ]
  },
  {
   "cell_type": "code",
   "execution_count": null,
   "id": "4967da8c",
   "metadata": {},
   "outputs": [],
   "source": [
    "#  Feature Importance Plot\n",
    "importances = clf.feature_importances_\n",
    "features = X.columns\n",
    "\n",
    "imp_df = pd.DataFrame({'Feature': features, 'Importance': importances})\n",
    "imp_df.sort_values(by='Importance', ascending=False, inplace=True)\n",
    "\n",
    "plt.figure(figsize=(10, 6))\n",
    "sns.barplot(x='Importance', y='Feature', data=imp_df, palette='crest')\n",
    "plt.title(\" Feature Importance (Random Forest)\")\n",
    "plt.tight_layout()\n",
    "plt.show()\n"
   ]
  },
  {
   "cell_type": "code",
   "execution_count": null,
   "id": "9ca5eb78",
   "metadata": {},
   "outputs": [],
   "source": [
    "# Save predictions with actuals to CSV\n",
    "result_df = X_test.copy()\n",
    "result_df['Actual_Traffic'] = y_test.values\n",
    "result_df['Predicted_Traffic'] = y_pred\n",
    "result_df.to_csv(\"traffic_predictions_output.csv\", index=False)\n",
    "print(\"Predictions saved to 'traffic_predictions_output.csv'\")\n"
   ]
  },
  {
   "cell_type": "code",
   "execution_count": null,
   "id": "edac8bb6",
   "metadata": {},
   "outputs": [],
   "source": [
    "# Count of Predicted Traffic Levels (1, 2, 3)\n",
    "plt.figure(figsize=(6, 4))\n",
    "sns.countplot(x=y_pred, palette='Set2')\n",
    "\n",
    "plt.title(\"Predicted Traffic Levels Distribution\")\n",
    "plt.xlabel(\"Traffic Level (1 = Low, 2 = Medium, 3 = High)\")\n",
    "plt.ylabel(\"Number of Predictions\")\n",
    "plt.ylim(0, 160)  # adjustable\n",
    "plt.grid(axis='y', linestyle='--', alpha=0.4)\n",
    "plt.tight_layout()\n",
    "plt.show()\n"
   ]
  },
  {
   "cell_type": "code",
   "execution_count": null,
   "id": "fa8aa677",
   "metadata": {},
   "outputs": [],
   "source": [
    "# 📊Average Predicted Traffic Level for Top 10 Zones (sorted by traffic)\n",
    "top_zones = result_df.groupby('Zone')['Predicted_Traffic_Level'].mean().sort_values(ascending=False).head(10)\n",
    "\n",
    "plt.figure(figsize=(10, 5))\n",
    "sns.barplot(x=top_zones.index.astype(str), y=top_zones.values, palette='coolwarm')\n",
    "\n",
    "plt.title(\"Top 10 Zones by Avg Predicted Traffic Level\")\n",
    "plt.xlabel(\"Zone\")\n",
    "plt.ylabel(\"Average Traffic Level\")\n",
    "plt.ylim(1, 3.2)\n",
    "plt.grid(axis='y', linestyle='--', alpha=0.5)\n",
    "plt.tight_layout()\n",
    "plt.show()\n"
   ]
  },
  {
   "cell_type": "code",
   "execution_count": null,
   "id": "32bc0598",
   "metadata": {},
   "outputs": [],
   "source": [
    "#  Predicted Traffic vs Temperature \n",
    "sample_df = result_df.sample(200, random_state=42)\n",
    "\n",
    "plt.figure(figsize=(8, 5))\n",
    "sns.scatterplot(x='Temperature', y='Predicted_Traffic_Level', data=sample_df)\n",
    "\n",
    "plt.title(\"Predicted Traffic vs Temperature (Sample of 200)\")\n",
    "plt.xlabel(\"Temperature\")\n",
    "plt.ylabel(\"Predicted Traffic Level\")\n",
    "plt.ylim(0.5, 3.5)\n",
    "plt.grid(True, linestyle='--', alpha=0.4)\n",
    "plt.tight_layout()\n",
    "plt.show()\n"
   ]
  },
  {
   "cell_type": "code",
   "execution_count": null,
   "id": "3088a46a",
   "metadata": {},
   "outputs": [],
   "source": [
    "#  Confusion matrix with labels\n",
    "from sklearn.metrics import confusion_matrix\n",
    "\n",
    "cm = confusion_matrix(y_test, y_pred)\n",
    "labels = ['Low (1)', 'Med (2)', 'High (3)']\n",
    "\n",
    "plt.figure(figsize=(6, 5))\n",
    "sns.heatmap(cm, annot=True, cmap=\"Blues\", fmt='d', xticklabels=labels, yticklabels=labels)\n",
    "\n",
    "plt.title(\"Confusion Matrix\")\n",
    "plt.xlabel(\"Predicted\")\n",
    "plt.ylabel(\"Actual\")\n",
    "plt.tight_layout()\n",
    "plt.show()\n"
   ]
  },
  {
   "cell_type": "code",
   "execution_count": null,
   "id": "1ac5a2eb",
   "metadata": {},
   "outputs": [],
   "source": [
    "# Feature Importance\n",
    "feat_importances = pd.Series(clf.feature_importances_, index=X.columns)\n",
    "top_features = feat_importances.sort_values(ascending=False).head(8)\n",
    "\n",
    "plt.figure(figsize=(9, 5))\n",
    "sns.barplot(x=top_features.values, y=top_features.index, palette=\"viridis\")\n",
    "\n",
    "plt.title(\"Top 8 Feature Importances\")\n",
    "plt.xlabel(\"Importance Score\")\n",
    "plt.grid(axis='x', linestyle='--', alpha=0.3)\n",
    "plt.tight_layout()\n",
    "plt.show()\n"
   ]
  }
 ],
 "metadata": {
  "kernelspec": {
   "display_name": "Python 3",
   "language": "python",
   "name": "python3"
  },
  "language_info": {
   "codemirror_mode": {
    "name": "ipython",
    "version": 3
   },
   "file_extension": ".py",
   "mimetype": "text/x-python",
   "name": "python",
   "nbconvert_exporter": "python",
   "pygments_lexer": "ipython3",
   "version": "3.13.3"
  }
 },
 "nbformat": 4,
 "nbformat_minor": 5
}
